{
  "nbformat": 4,
  "nbformat_minor": 0,
  "metadata": {
    "colab": {
      "name": "Email Classification.ipynb",
      "provenance": [],
      "collapsed_sections": []
    },
    "kernelspec": {
      "name": "python3",
      "display_name": "Python 3"
    },
    "language_info": {
      "name": "python"
    }
  },
  "cells": [
    {
      "cell_type": "markdown",
      "metadata": {
        "id": "1P95VMAHvKtD"
      },
      "source": [
        "Text Classification based on the products"
      ]
    },
    {
      "cell_type": "code",
      "metadata": {
        "id": "FOc2EceRwTJI"
      },
      "source": [
        "import spacy\n",
        "nlp=spacy.load('en_core_web_sm')\n",
        "stopwords = nlp.Defaults.stop_words"
      ],
      "execution_count": 1,
      "outputs": []
    },
    {
      "cell_type": "code",
      "metadata": {
        "id": "XzazFnJxu3hv"
      },
      "source": [
        "import pandas as pd\n",
        "from sklearn.feature_extraction.text import TfidfVectorizer\n",
        "from sklearn.model_selection import train_test_split\n",
        "from sklearn.pipeline import Pipeline\n",
        "from sklearn.svm import LinearSVC\n",
        "from sklearn.metrics import classification_report,confusion_matrix"
      ],
      "execution_count": 12,
      "outputs": []
    },
    {
      "cell_type": "markdown",
      "metadata": {
        "id": "5yIXBZ5CwVpm"
      },
      "source": [
        "Reading the data from CSV file"
      ]
    },
    {
      "cell_type": "code",
      "metadata": {
        "colab": {
          "base_uri": "https://localhost:8080/"
        },
        "id": "WHqpsbcAvQMQ",
        "outputId": "ff690903-8f5c-4b93-c536-0cc791c5fd1b"
      },
      "source": [
        "train=pd.read_csv(\"/content/drive/MyDrive/Colab Notebooks/val_10k.csv\")\n",
        "train.columns"
      ],
      "execution_count": 3,
      "outputs": [
        {
          "output_type": "execute_result",
          "data": {
            "text/plain": [
              "Index(['productId', 'Title', 'userId', 'Helpfulness', 'Score', 'Time', 'Text',\n",
              "       'Cat1', 'Cat2', 'Cat3'],\n",
              "      dtype='object')"
            ]
          },
          "metadata": {
            "tags": []
          },
          "execution_count": 3
        }
      ]
    },
    {
      "cell_type": "code",
      "metadata": {
        "colab": {
          "base_uri": "https://localhost:8080/",
          "height": 261
        },
        "id": "dXQkF7C-zZ2F",
        "outputId": "99540010-da17-44f5-da92-0677eedc9d1b"
      },
      "source": [
        "train=train.drop(labels=['productId','Title','userId','Helpfulness','Score','Time','Cat2','Cat3'],axis=1)\n",
        "print(train.isnull().sum())\n",
        "train.head()"
      ],
      "execution_count": 4,
      "outputs": [
        {
          "output_type": "stream",
          "text": [
            "Text    0\n",
            "Cat1    0\n",
            "dtype: int64\n"
          ],
          "name": "stdout"
        },
        {
          "output_type": "execute_result",
          "data": {
            "text/html": [
              "<div>\n",
              "<style scoped>\n",
              "    .dataframe tbody tr th:only-of-type {\n",
              "        vertical-align: middle;\n",
              "    }\n",
              "\n",
              "    .dataframe tbody tr th {\n",
              "        vertical-align: top;\n",
              "    }\n",
              "\n",
              "    .dataframe thead th {\n",
              "        text-align: right;\n",
              "    }\n",
              "</style>\n",
              "<table border=\"1\" class=\"dataframe\">\n",
              "  <thead>\n",
              "    <tr style=\"text-align: right;\">\n",
              "      <th></th>\n",
              "      <th>Text</th>\n",
              "      <th>Cat1</th>\n",
              "    </tr>\n",
              "  </thead>\n",
              "  <tbody>\n",
              "    <tr>\n",
              "      <th>0</th>\n",
              "      <td>We've only had it installed about 2 weeks. So ...</td>\n",
              "      <td>pet supplies</td>\n",
              "    </tr>\n",
              "    <tr>\n",
              "      <th>1</th>\n",
              "      <td>My bunny had a hard time eating this because t...</td>\n",
              "      <td>pet supplies</td>\n",
              "    </tr>\n",
              "    <tr>\n",
              "      <th>2</th>\n",
              "      <td>would never in a million years have guessed th...</td>\n",
              "      <td>health personal care</td>\n",
              "    </tr>\n",
              "    <tr>\n",
              "      <th>3</th>\n",
              "      <td>Being the jerky fanatic I am, snackmasters han...</td>\n",
              "      <td>grocery gourmet food</td>\n",
              "    </tr>\n",
              "    <tr>\n",
              "      <th>4</th>\n",
              "      <td>Wondered how quick my dog would catch on to th...</td>\n",
              "      <td>pet supplies</td>\n",
              "    </tr>\n",
              "  </tbody>\n",
              "</table>\n",
              "</div>"
            ],
            "text/plain": [
              "                                                Text                  Cat1\n",
              "0  We've only had it installed about 2 weeks. So ...          pet supplies\n",
              "1  My bunny had a hard time eating this because t...          pet supplies\n",
              "2  would never in a million years have guessed th...  health personal care\n",
              "3  Being the jerky fanatic I am, snackmasters han...  grocery gourmet food\n",
              "4  Wondered how quick my dog would catch on to th...          pet supplies"
            ]
          },
          "metadata": {
            "tags": []
          },
          "execution_count": 4
        }
      ]
    },
    {
      "cell_type": "code",
      "metadata": {
        "colab": {
          "base_uri": "https://localhost:8080/"
        },
        "id": "ppauIWq90xZL",
        "outputId": "548dd0e9-0195-4ced-bcc7-d96f43f2c76e"
      },
      "source": [
        "train.Cat1.value_counts()"
      ],
      "execution_count": 5,
      "outputs": [
        {
          "output_type": "execute_result",
          "data": {
            "text/plain": [
              "health personal care    2992\n",
              "beauty                  2135\n",
              "toys games              1759\n",
              "pet supplies            1576\n",
              "grocery gourmet food     840\n",
              "baby products            698\n",
              "Name: Cat1, dtype: int64"
            ]
          },
          "metadata": {
            "tags": []
          },
          "execution_count": 5
        }
      ]
    },
    {
      "cell_type": "code",
      "metadata": {
        "colab": {
          "base_uri": "https://localhost:8080/"
        },
        "id": "6GMK3HPG0JfA",
        "outputId": "37e5dfa3-02a6-4742-f6f2-fc1eba5485eb"
      },
      "source": [
        "x_train,x_test,y_train,y_test=train_test_split(train['Text'],train['Cat1'],test_size=0.3)\n",
        "print(x_train.shape)\n",
        "print(x_test.shape)"
      ],
      "execution_count": 6,
      "outputs": [
        {
          "output_type": "stream",
          "text": [
            "(7000,)\n",
            "(3000,)\n"
          ],
          "name": "stdout"
        }
      ]
    },
    {
      "cell_type": "markdown",
      "metadata": {
        "id": "F1UoYmki1Y28"
      },
      "source": [
        "Text Preprocessing"
      ]
    },
    {
      "cell_type": "code",
      "metadata": {
        "id": "yoLZAyVZ1YLl"
      },
      "source": [
        "def text_preprocessing(sentence):\n",
        "  doc=nlp(sentence);\n",
        "  tokens=[];\n",
        "  for word in doc:\n",
        "    if not word.is_punct and not word in stopwords:\n",
        "      if word.lemma!='-PRON':\n",
        "        temp=word.lemma_.lower().strip()\n",
        "      else:\n",
        "        temp=word.lower()\n",
        "      tokens.append(temp);\n",
        "  return tokens"
      ],
      "execution_count": 7,
      "outputs": []
    },
    {
      "cell_type": "markdown",
      "metadata": {
        "id": "-NMTfHxT18RD"
      },
      "source": [
        "Text Vectorization"
      ]
    },
    {
      "cell_type": "code",
      "metadata": {
        "id": "tFza0KcQ1VEL"
      },
      "source": [
        "tfidf=TfidfVectorizer(tokenizer=text_preprocessing)"
      ],
      "execution_count": 8,
      "outputs": []
    },
    {
      "cell_type": "markdown",
      "metadata": {
        "id": "CcrGUiQ22HfH"
      },
      "source": [
        "Machine Learning using SVM"
      ]
    },
    {
      "cell_type": "code",
      "metadata": {
        "id": "HFKt8EKg2G4k"
      },
      "source": [
        "classifier=LinearSVC()\n",
        "clf=Pipeline([('tfidf',tfidf),('clf',classifier)])\n",
        "clf.fit(x_train,y_train)\n",
        "y_pred=clf.predict(x_test)"
      ],
      "execution_count": 10,
      "outputs": []
    },
    {
      "cell_type": "code",
      "metadata": {
        "colab": {
          "base_uri": "https://localhost:8080/"
        },
        "id": "xgy6X-U86cxT",
        "outputId": "4da0d6eb-a985-4bd3-80ea-e463ee401434"
      },
      "source": [
        "print(classification_report(y_test,y_pred))\n",
        "print(confusion_matrix(y_test,y_pred))"
      ],
      "execution_count": 14,
      "outputs": [
        {
          "output_type": "stream",
          "text": [
            "                      precision    recall  f1-score   support\n",
            "\n",
            "       baby products       0.72      0.49      0.58       224\n",
            "              beauty       0.77      0.81      0.79       625\n",
            "grocery gourmet food       0.79      0.66      0.72       239\n",
            "health personal care       0.71      0.79      0.75       916\n",
            "        pet supplies       0.88      0.82      0.85       473\n",
            "          toys games       0.80      0.82      0.81       523\n",
            "\n",
            "            accuracy                           0.77      3000\n",
            "           macro avg       0.78      0.73      0.75      3000\n",
            "        weighted avg       0.77      0.77      0.77      3000\n",
            "\n",
            "[[109  19   0  48  12  36]\n",
            " [  3 508   3  96   2  13]\n",
            " [  1  15 157  50   6  10]\n",
            " [ 20  92  31 720  20  33]\n",
            " [  6  19   2  43 387  16]\n",
            " [ 12  10   5  52  14 430]]\n"
          ],
          "name": "stdout"
        }
      ]
    }
  ]
}